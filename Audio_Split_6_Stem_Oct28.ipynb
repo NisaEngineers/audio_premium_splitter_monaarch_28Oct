{
  "nbformat": 4,
  "nbformat_minor": 0,
  "metadata": {
    "colab": {
      "provenance": [],
      "gpuType": "T4"
    },
    "kernelspec": {
      "name": "python3",
      "display_name": "Python 3"
    },
    "language_info": {
      "name": "python"
    },
    "accelerator": "GPU"
  },
  "cells": [
    {
      "cell_type": "code",
      "source": [
        "!pip install \"audio-separator[gpu]\""
      ],
      "metadata": {
        "colab": {
          "base_uri": "https://localhost:8080/"
        },
        "id": "0DYo1IEMtySJ",
        "outputId": "744448c0-2188-42a4-ea26-02c0953d3349"
      },
      "execution_count": 1,
      "outputs": [
        {
          "output_type": "stream",
          "name": "stdout",
          "text": [
            "Collecting audio-separator[gpu]\n",
            "  Downloading audio_separator-0.39.1-py3-none-any.whl.metadata (36 kB)\n",
            "Collecting beartype<0.19.0,>=0.18.5 (from audio-separator[gpu])\n",
            "  Downloading beartype-0.18.5-py3-none-any.whl.metadata (30 kB)\n",
            "Collecting diffq>=0.2 (from audio-separator[gpu])\n",
            "  Downloading diffq-0.2.4.tar.gz (157 kB)\n",
            "\u001b[2K     \u001b[90m━━━━━━━━━━━━━━━━━━━━━━━━━━━━━━━━━━━━━━━\u001b[0m \u001b[32m157.1/157.1 kB\u001b[0m \u001b[31m5.4 MB/s\u001b[0m eta \u001b[36m0:00:00\u001b[0m\n",
            "\u001b[?25h  Installing build dependencies ... \u001b[?25l\u001b[?25hdone\n",
            "  Getting requirements to build wheel ... \u001b[?25l\u001b[?25hdone\n",
            "  Preparing metadata (pyproject.toml) ... \u001b[?25l\u001b[?25hdone\n",
            "Requirement already satisfied: einops>=0.7 in /usr/local/lib/python3.12/dist-packages (from audio-separator[gpu]) (0.8.1)\n",
            "Collecting julius>=0.2 (from audio-separator[gpu])\n",
            "  Downloading julius-0.2.7.tar.gz (59 kB)\n",
            "\u001b[2K     \u001b[90m━━━━━━━━━━━━━━━━━━━━━━━━━━━━━━━━━━━━━━━━\u001b[0m \u001b[32m59.6/59.6 kB\u001b[0m \u001b[31m7.2 MB/s\u001b[0m eta \u001b[36m0:00:00\u001b[0m\n",
            "\u001b[?25h  Preparing metadata (setup.py) ... \u001b[?25l\u001b[?25hdone\n",
            "Requirement already satisfied: librosa>=0.10 in /usr/local/lib/python3.12/dist-packages (from audio-separator[gpu]) (0.11.0)\n",
            "Collecting ml_collections (from audio-separator[gpu])\n",
            "  Downloading ml_collections-1.1.0-py3-none-any.whl.metadata (22 kB)\n",
            "Requirement already satisfied: numpy>=2 in /usr/local/lib/python3.12/dist-packages (from audio-separator[gpu]) (2.0.2)\n",
            "Collecting onnx-weekly (from audio-separator[gpu])\n",
            "  Downloading onnx_weekly-1.20.0.dev20251027-cp312-abi3-manylinux_2_27_x86_64.manylinux_2_28_x86_64.whl.metadata (8.5 kB)\n",
            "Collecting onnx2torch-py313>=1.6 (from audio-separator[gpu])\n",
            "  Downloading onnx2torch_py313-1.6.0-py3-none-any.whl.metadata (23 kB)\n",
            "Collecting onnxruntime-gpu>=1.17 (from audio-separator[gpu])\n",
            "  Downloading onnxruntime_gpu-1.23.2-cp312-cp312-manylinux_2_27_x86_64.manylinux_2_28_x86_64.whl.metadata (5.4 kB)\n",
            "Requirement already satisfied: pydub>=0.25 in /usr/local/lib/python3.12/dist-packages (from audio-separator[gpu]) (0.25.1)\n",
            "Requirement already satisfied: pyyaml in /usr/local/lib/python3.12/dist-packages (from audio-separator[gpu]) (6.0.3)\n",
            "Requirement already satisfied: requests>=2 in /usr/local/lib/python3.12/dist-packages (from audio-separator[gpu]) (2.32.4)\n",
            "Collecting resampy>=0.4 (from audio-separator[gpu])\n",
            "  Downloading resampy-0.4.3-py3-none-any.whl.metadata (3.0 kB)\n",
            "Collecting rotary-embedding-torch<0.7.0,>=0.6.1 (from audio-separator[gpu])\n",
            "  Downloading rotary_embedding_torch-0.6.5-py3-none-any.whl.metadata (678 bytes)\n",
            "Collecting samplerate==0.1.0 (from audio-separator[gpu])\n",
            "  Downloading samplerate-0.1.0-py2.py3-none-any.whl.metadata (3.2 kB)\n",
            "Requirement already satisfied: scipy<2.0.0,>=1.13.0 in /usr/local/lib/python3.12/dist-packages (from audio-separator[gpu]) (1.16.2)\n",
            "Requirement already satisfied: six>=1.16 in /usr/local/lib/python3.12/dist-packages (from audio-separator[gpu]) (1.17.0)\n",
            "Requirement already satisfied: torch>=2.3 in /usr/local/lib/python3.12/dist-packages (from audio-separator[gpu]) (2.8.0+cu126)\n",
            "Requirement already satisfied: tqdm in /usr/local/lib/python3.12/dist-packages (from audio-separator[gpu]) (4.67.1)\n",
            "Requirement already satisfied: cffi>=1.0.0 in /usr/local/lib/python3.12/dist-packages (from samplerate==0.1.0->audio-separator[gpu]) (2.0.0)\n",
            "Requirement already satisfied: Cython in /usr/local/lib/python3.12/dist-packages (from diffq>=0.2->audio-separator[gpu]) (3.0.12)\n",
            "Requirement already satisfied: audioread>=2.1.9 in /usr/local/lib/python3.12/dist-packages (from librosa>=0.10->audio-separator[gpu]) (3.0.1)\n",
            "Requirement already satisfied: numba>=0.51.0 in /usr/local/lib/python3.12/dist-packages (from librosa>=0.10->audio-separator[gpu]) (0.60.0)\n",
            "Requirement already satisfied: scikit-learn>=1.1.0 in /usr/local/lib/python3.12/dist-packages (from librosa>=0.10->audio-separator[gpu]) (1.6.1)\n",
            "Requirement already satisfied: joblib>=1.0 in /usr/local/lib/python3.12/dist-packages (from librosa>=0.10->audio-separator[gpu]) (1.5.2)\n",
            "Requirement already satisfied: decorator>=4.3.0 in /usr/local/lib/python3.12/dist-packages (from librosa>=0.10->audio-separator[gpu]) (4.4.2)\n",
            "Requirement already satisfied: soundfile>=0.12.1 in /usr/local/lib/python3.12/dist-packages (from librosa>=0.10->audio-separator[gpu]) (0.13.1)\n",
            "Requirement already satisfied: pooch>=1.1 in /usr/local/lib/python3.12/dist-packages (from librosa>=0.10->audio-separator[gpu]) (1.8.2)\n",
            "Requirement already satisfied: soxr>=0.3.2 in /usr/local/lib/python3.12/dist-packages (from librosa>=0.10->audio-separator[gpu]) (1.0.0)\n",
            "Requirement already satisfied: typing_extensions>=4.1.1 in /usr/local/lib/python3.12/dist-packages (from librosa>=0.10->audio-separator[gpu]) (4.15.0)\n",
            "Requirement already satisfied: lazy_loader>=0.1 in /usr/local/lib/python3.12/dist-packages (from librosa>=0.10->audio-separator[gpu]) (0.4)\n",
            "Requirement already satisfied: msgpack>=1.0 in /usr/local/lib/python3.12/dist-packages (from librosa>=0.10->audio-separator[gpu]) (1.1.2)\n",
            "Requirement already satisfied: torchvision>=0.9.0 in /usr/local/lib/python3.12/dist-packages (from onnx2torch-py313>=1.6->audio-separator[gpu]) (0.23.0+cu126)\n",
            "Collecting coloredlogs (from onnxruntime-gpu>=1.17->audio-separator[gpu])\n",
            "  Downloading coloredlogs-15.0.1-py2.py3-none-any.whl.metadata (12 kB)\n",
            "Requirement already satisfied: flatbuffers in /usr/local/lib/python3.12/dist-packages (from onnxruntime-gpu>=1.17->audio-separator[gpu]) (25.9.23)\n",
            "Requirement already satisfied: packaging in /usr/local/lib/python3.12/dist-packages (from onnxruntime-gpu>=1.17->audio-separator[gpu]) (25.0)\n",
            "Requirement already satisfied: protobuf in /usr/local/lib/python3.12/dist-packages (from onnxruntime-gpu>=1.17->audio-separator[gpu]) (5.29.5)\n",
            "Requirement already satisfied: sympy in /usr/local/lib/python3.12/dist-packages (from onnxruntime-gpu>=1.17->audio-separator[gpu]) (1.13.3)\n",
            "Requirement already satisfied: charset_normalizer<4,>=2 in /usr/local/lib/python3.12/dist-packages (from requests>=2->audio-separator[gpu]) (3.4.4)\n",
            "Requirement already satisfied: idna<4,>=2.5 in /usr/local/lib/python3.12/dist-packages (from requests>=2->audio-separator[gpu]) (3.11)\n",
            "Requirement already satisfied: urllib3<3,>=1.21.1 in /usr/local/lib/python3.12/dist-packages (from requests>=2->audio-separator[gpu]) (2.5.0)\n",
            "Requirement already satisfied: certifi>=2017.4.17 in /usr/local/lib/python3.12/dist-packages (from requests>=2->audio-separator[gpu]) (2025.10.5)\n",
            "Requirement already satisfied: filelock in /usr/local/lib/python3.12/dist-packages (from torch>=2.3->audio-separator[gpu]) (3.20.0)\n",
            "Requirement already satisfied: setuptools in /usr/local/lib/python3.12/dist-packages (from torch>=2.3->audio-separator[gpu]) (75.2.0)\n",
            "Requirement already satisfied: networkx in /usr/local/lib/python3.12/dist-packages (from torch>=2.3->audio-separator[gpu]) (3.5)\n",
            "Requirement already satisfied: jinja2 in /usr/local/lib/python3.12/dist-packages (from torch>=2.3->audio-separator[gpu]) (3.1.6)\n",
            "Requirement already satisfied: fsspec in /usr/local/lib/python3.12/dist-packages (from torch>=2.3->audio-separator[gpu]) (2025.3.0)\n",
            "Requirement already satisfied: nvidia-cuda-nvrtc-cu12==12.6.77 in /usr/local/lib/python3.12/dist-packages (from torch>=2.3->audio-separator[gpu]) (12.6.77)\n",
            "Requirement already satisfied: nvidia-cuda-runtime-cu12==12.6.77 in /usr/local/lib/python3.12/dist-packages (from torch>=2.3->audio-separator[gpu]) (12.6.77)\n",
            "Requirement already satisfied: nvidia-cuda-cupti-cu12==12.6.80 in /usr/local/lib/python3.12/dist-packages (from torch>=2.3->audio-separator[gpu]) (12.6.80)\n",
            "Requirement already satisfied: nvidia-cudnn-cu12==9.10.2.21 in /usr/local/lib/python3.12/dist-packages (from torch>=2.3->audio-separator[gpu]) (9.10.2.21)\n",
            "Requirement already satisfied: nvidia-cublas-cu12==12.6.4.1 in /usr/local/lib/python3.12/dist-packages (from torch>=2.3->audio-separator[gpu]) (12.6.4.1)\n",
            "Requirement already satisfied: nvidia-cufft-cu12==11.3.0.4 in /usr/local/lib/python3.12/dist-packages (from torch>=2.3->audio-separator[gpu]) (11.3.0.4)\n",
            "Requirement already satisfied: nvidia-curand-cu12==10.3.7.77 in /usr/local/lib/python3.12/dist-packages (from torch>=2.3->audio-separator[gpu]) (10.3.7.77)\n",
            "Requirement already satisfied: nvidia-cusolver-cu12==11.7.1.2 in /usr/local/lib/python3.12/dist-packages (from torch>=2.3->audio-separator[gpu]) (11.7.1.2)\n",
            "Requirement already satisfied: nvidia-cusparse-cu12==12.5.4.2 in /usr/local/lib/python3.12/dist-packages (from torch>=2.3->audio-separator[gpu]) (12.5.4.2)\n",
            "Requirement already satisfied: nvidia-cusparselt-cu12==0.7.1 in /usr/local/lib/python3.12/dist-packages (from torch>=2.3->audio-separator[gpu]) (0.7.1)\n",
            "Requirement already satisfied: nvidia-nccl-cu12==2.27.3 in /usr/local/lib/python3.12/dist-packages (from torch>=2.3->audio-separator[gpu]) (2.27.3)\n",
            "Requirement already satisfied: nvidia-nvtx-cu12==12.6.77 in /usr/local/lib/python3.12/dist-packages (from torch>=2.3->audio-separator[gpu]) (12.6.77)\n",
            "Requirement already satisfied: nvidia-nvjitlink-cu12==12.6.85 in /usr/local/lib/python3.12/dist-packages (from torch>=2.3->audio-separator[gpu]) (12.6.85)\n",
            "Requirement already satisfied: nvidia-cufile-cu12==1.11.1.6 in /usr/local/lib/python3.12/dist-packages (from torch>=2.3->audio-separator[gpu]) (1.11.1.6)\n",
            "Requirement already satisfied: triton==3.4.0 in /usr/local/lib/python3.12/dist-packages (from torch>=2.3->audio-separator[gpu]) (3.4.0)\n",
            "Requirement already satisfied: absl-py in /usr/local/lib/python3.12/dist-packages (from ml_collections->audio-separator[gpu]) (1.4.0)\n",
            "Requirement already satisfied: ml_dtypes>=0.5.0 in /usr/local/lib/python3.12/dist-packages (from onnx-weekly->audio-separator[gpu]) (0.5.3)\n",
            "Requirement already satisfied: pycparser in /usr/local/lib/python3.12/dist-packages (from cffi>=1.0.0->samplerate==0.1.0->audio-separator[gpu]) (2.23)\n",
            "Requirement already satisfied: llvmlite<0.44,>=0.43.0dev0 in /usr/local/lib/python3.12/dist-packages (from numba>=0.51.0->librosa>=0.10->audio-separator[gpu]) (0.43.0)\n",
            "Requirement already satisfied: platformdirs>=2.5.0 in /usr/local/lib/python3.12/dist-packages (from pooch>=1.1->librosa>=0.10->audio-separator[gpu]) (4.5.0)\n",
            "Requirement already satisfied: threadpoolctl>=3.1.0 in /usr/local/lib/python3.12/dist-packages (from scikit-learn>=1.1.0->librosa>=0.10->audio-separator[gpu]) (3.6.0)\n",
            "Requirement already satisfied: mpmath<1.4,>=1.1.0 in /usr/local/lib/python3.12/dist-packages (from sympy->onnxruntime-gpu>=1.17->audio-separator[gpu]) (1.3.0)\n",
            "Requirement already satisfied: pillow!=8.3.*,>=5.3.0 in /usr/local/lib/python3.12/dist-packages (from torchvision>=0.9.0->onnx2torch-py313>=1.6->audio-separator[gpu]) (11.3.0)\n",
            "Collecting humanfriendly>=9.1 (from coloredlogs->onnxruntime-gpu>=1.17->audio-separator[gpu])\n",
            "  Downloading humanfriendly-10.0-py2.py3-none-any.whl.metadata (9.2 kB)\n",
            "Requirement already satisfied: MarkupSafe>=2.0 in /usr/local/lib/python3.12/dist-packages (from jinja2->torch>=2.3->audio-separator[gpu]) (3.0.3)\n",
            "Downloading samplerate-0.1.0-py2.py3-none-any.whl (4.0 MB)\n",
            "\u001b[2K   \u001b[90m━━━━━━━━━━━━━━━━━━━━━━━━━━━━━━━━━━━━━━━━\u001b[0m \u001b[32m4.0/4.0 MB\u001b[0m \u001b[31m39.2 MB/s\u001b[0m eta \u001b[36m0:00:00\u001b[0m\n",
            "\u001b[?25hDownloading beartype-0.18.5-py3-none-any.whl (917 kB)\n",
            "\u001b[2K   \u001b[90m━━━━━━━━━━━━━━━━━━━━━━━━━━━━━━━━━━━━━━━━\u001b[0m \u001b[32m917.8/917.8 kB\u001b[0m \u001b[31m67.8 MB/s\u001b[0m eta \u001b[36m0:00:00\u001b[0m\n",
            "\u001b[?25hDownloading onnx2torch_py313-1.6.0-py3-none-any.whl (81 kB)\n",
            "\u001b[2K   \u001b[90m━━━━━━━━━━━━━━━━━━━━━━━━━━━━━━━━━━━━━━━━\u001b[0m \u001b[32m81.3/81.3 kB\u001b[0m \u001b[31m11.9 MB/s\u001b[0m eta \u001b[36m0:00:00\u001b[0m\n",
            "\u001b[?25hDownloading onnxruntime_gpu-1.23.2-cp312-cp312-manylinux_2_27_x86_64.manylinux_2_28_x86_64.whl (300.5 MB)\n",
            "\u001b[2K   \u001b[90m━━━━━━━━━━━━━━━━━━━━━━━━━━━━━━━━━━━━━━━━\u001b[0m \u001b[32m300.5/300.5 MB\u001b[0m \u001b[31m4.7 MB/s\u001b[0m eta \u001b[36m0:00:00\u001b[0m\n",
            "\u001b[?25hDownloading resampy-0.4.3-py3-none-any.whl (3.1 MB)\n",
            "\u001b[2K   \u001b[90m━━━━━━━━━━━━━━━━━━━━━━━━━━━━━━━━━━━━━━━━\u001b[0m \u001b[32m3.1/3.1 MB\u001b[0m \u001b[31m116.2 MB/s\u001b[0m eta \u001b[36m0:00:00\u001b[0m\n",
            "\u001b[?25hDownloading rotary_embedding_torch-0.6.5-py3-none-any.whl (5.5 kB)\n",
            "Downloading audio_separator-0.39.1-py3-none-any.whl (383 kB)\n",
            "\u001b[2K   \u001b[90m━━━━━━━━━━━━━━━━━━━━━━━━━━━━━━━━━━━━━━━━\u001b[0m \u001b[32m383.8/383.8 kB\u001b[0m \u001b[31m36.8 MB/s\u001b[0m eta \u001b[36m0:00:00\u001b[0m\n",
            "\u001b[?25hDownloading ml_collections-1.1.0-py3-none-any.whl (76 kB)\n",
            "\u001b[2K   \u001b[90m━━━━━━━━━━━━━━━━━━━━━━━━━━━━━━━━━━━━━━━━\u001b[0m \u001b[32m76.7/76.7 kB\u001b[0m \u001b[31m10.3 MB/s\u001b[0m eta \u001b[36m0:00:00\u001b[0m\n",
            "\u001b[?25hDownloading onnx_weekly-1.20.0.dev20251027-cp312-abi3-manylinux_2_27_x86_64.manylinux_2_28_x86_64.whl (18.0 MB)\n",
            "\u001b[2K   \u001b[90m━━━━━━━━━━━━━━━━━━━━━━━━━━━━━━━━━━━━━━━━\u001b[0m \u001b[32m18.0/18.0 MB\u001b[0m \u001b[31m88.7 MB/s\u001b[0m eta \u001b[36m0:00:00\u001b[0m\n",
            "\u001b[?25hDownloading coloredlogs-15.0.1-py2.py3-none-any.whl (46 kB)\n",
            "\u001b[2K   \u001b[90m━━━━━━━━━━━━━━━━━━━━━━━━━━━━━━━━━━━━━━━━\u001b[0m \u001b[32m46.0/46.0 kB\u001b[0m \u001b[31m5.6 MB/s\u001b[0m eta \u001b[36m0:00:00\u001b[0m\n",
            "\u001b[?25hDownloading humanfriendly-10.0-py2.py3-none-any.whl (86 kB)\n",
            "\u001b[2K   \u001b[90m━━━━━━━━━━━━━━━━━━━━━━━━━━━━━━━━━━━━━━━━\u001b[0m \u001b[32m86.8/86.8 kB\u001b[0m \u001b[31m11.0 MB/s\u001b[0m eta \u001b[36m0:00:00\u001b[0m\n",
            "\u001b[?25hBuilding wheels for collected packages: diffq, julius\n",
            "  Building wheel for diffq (pyproject.toml) ... \u001b[?25l\u001b[?25hdone\n",
            "  Created wheel for diffq: filename=diffq-0.2.4-cp312-cp312-linux_x86_64.whl size=472809 sha256=c23c9951baa2e6ada59c11c64d47021fc6d9c17488553e8641d2cbc64ee549cd\n",
            "  Stored in directory: /root/.cache/pip/wheels/e1/2d/ce/ffafea46a65fecd3c416036f48b3d93471cf47b8c9dcd50e60\n",
            "  Building wheel for julius (setup.py) ... \u001b[?25l\u001b[?25hdone\n",
            "  Created wheel for julius: filename=julius-0.2.7-py3-none-any.whl size=21870 sha256=852dfb6a177e7cf47ef9b4198df935721ed278508cae23ed2eecb6eb94929f04\n",
            "  Stored in directory: /root/.cache/pip/wheels/de/c1/ca/544dafe48401e8e2e17064dfe465a390fca9e8720ffa12e744\n",
            "Successfully built diffq julius\n",
            "Installing collected packages: ml_collections, humanfriendly, beartype, samplerate, resampy, onnx-weekly, coloredlogs, onnxruntime-gpu, rotary-embedding-torch, julius, diffq, onnx2torch-py313, audio-separator\n",
            "  Attempting uninstall: beartype\n",
            "    Found existing installation: beartype 0.22.2\n",
            "    Uninstalling beartype-0.22.2:\n",
            "      Successfully uninstalled beartype-0.22.2\n",
            "Successfully installed audio-separator-0.39.1 beartype-0.18.5 coloredlogs-15.0.1 diffq-0.2.4 humanfriendly-10.0 julius-0.2.7 ml_collections-1.1.0 onnx-weekly-1.20.0.dev20251027 onnx2torch-py313-1.6.0 onnxruntime-gpu-1.23.2 resampy-0.4.3 rotary-embedding-torch-0.6.5 samplerate-0.1.0\n"
          ]
        }
      ]
    },
    {
      "cell_type": "code",
      "source": [
        "from audio_separator.separator import Separator\n",
        "\n",
        "separator = Separator()\n",
        "\n",
        "# Example: load Demucs\n",
        "separator.load_model('htdemucs_6s.yaml')\n",
        "\n",
        "# Or try MDX Extra\n",
        "# separator.load_model(\"mdx_extra\")\n",
        "\n",
        "output_files = separator.separate(\"/content/audio_example.mp3\")\n",
        "print(f\"Separation complete! Output file(s): {' '.join(output_files)}\")\n"
      ],
      "metadata": {
        "colab": {
          "base_uri": "https://localhost:8080/"
        },
        "id": "yNhz6mQ6rRbq",
        "outputId": "5b084495-9e54-4385-975d-77f12216f12d"
      },
      "execution_count": 2,
      "outputs": [
        {
          "output_type": "stream",
          "name": "stderr",
          "text": [
            "INFO:audio_separator.separator.separator:Separator version 0.39.1 instantiating with output_dir: None, output_format: WAV\n",
            "INFO:audio_separator.separator.separator:Output directory not specified. Using current working directory.\n",
            "INFO:audio_separator.separator.separator:Using model directory from model_file_dir parameter: /tmp/audio-separator-models/\n",
            "INFO:audio_separator.separator.separator:Operating System: Linux #1 SMP Thu Oct  2 10:42:05 UTC 2025\n",
            "INFO:audio_separator.separator.separator:System: Linux Node: d32c59a071b7 Release: 6.6.105+ Machine: x86_64 Proc: x86_64\n",
            "INFO:audio_separator.separator.separator:Python Version: 3.12.12\n",
            "INFO:audio_separator.separator.separator:PyTorch Version: 2.8.0+cu126\n",
            "INFO:audio_separator.separator.separator:FFmpeg installed: ffmpeg version 4.4.2-0ubuntu0.22.04.1 Copyright (c) 2000-2021 the FFmpeg developers\n",
            "INFO:audio_separator.separator.separator:ONNX Runtime GPU package installed with version: 1.23.2\n",
            "INFO:audio_separator.separator.separator:CUDA is available in Torch, setting Torch device to CUDA\n",
            "INFO:audio_separator.separator.separator:ONNXruntime has CUDAExecutionProvider available, enabling acceleration\n",
            "INFO:audio_separator.separator.separator:Loading model htdemucs_6s.yaml...\n",
            "28.3kiB [00:00, 35.3MiB/s]                  \n",
            "100%|██████████| 55.0M/55.0M [00:00<00:00, 70.4MiB/s]\n",
            "100%|██████████| 21.0/21.0 [00:00<00:00, 13.9kiB/s]\n",
            "INFO:audio_separator.separator.separator:Demucs Separator initialisation complete\n",
            "INFO:audio_separator.separator.separator:Load model duration: 00:00:03\n",
            "INFO:audio_separator.separator.separator:Processing file: /content/audio_example.mp3\n",
            "INFO:audio_separator.separator.separator:Starting separation process for audio_file_path: /content/audio_example.mp3\n",
            "100%|██████████| 2/2 [00:06<00:00,  3.04s/it]\n",
            "100%|██████████| 2/2 [00:00<00:00,  4.79it/s]\n",
            "INFO:audio_separator.separator.separator:Audio duration is 0.00 hours (10.88 seconds).\n",
            "INFO:audio_separator.separator.separator:Using pydub for writing.\n",
            "INFO:audio_separator.separator.separator:Audio duration is 0.00 hours (10.88 seconds).\n",
            "INFO:audio_separator.separator.separator:Using pydub for writing.\n",
            "INFO:audio_separator.separator.separator:Audio duration is 0.00 hours (10.88 seconds).\n",
            "INFO:audio_separator.separator.separator:Using pydub for writing.\n",
            "INFO:audio_separator.separator.separator:Audio duration is 0.00 hours (10.88 seconds).\n",
            "INFO:audio_separator.separator.separator:Using pydub for writing.\n",
            "INFO:audio_separator.separator.separator:Audio duration is 0.00 hours (10.88 seconds).\n",
            "INFO:audio_separator.separator.separator:Using pydub for writing.\n",
            "INFO:audio_separator.separator.separator:Audio duration is 0.00 hours (10.88 seconds).\n",
            "INFO:audio_separator.separator.separator:Using pydub for writing.\n",
            "INFO:audio_separator.separator.separator:Clearing input audio file paths, sources and stems...\n",
            "INFO:audio_separator.separator.separator:Separation duration: 00:00:20\n"
          ]
        },
        {
          "output_type": "stream",
          "name": "stdout",
          "text": [
            "Separation complete! Output file(s): audio_example_(Bass)_htdemucs_6s.wav audio_example_(Drums)_htdemucs_6s.wav audio_example_(Other)_htdemucs_6s.wav audio_example_(Vocals)_htdemucs_6s.wav audio_example_(Guitar)_htdemucs_6s.wav audio_example_(Piano)_htdemucs_6s.wav\n"
          ]
        }
      ]
    },
    {
      "cell_type": "code",
      "source": [
        "%ls"
      ],
      "metadata": {
        "colab": {
          "base_uri": "https://localhost:8080/"
        },
        "id": "EWnnd6Iauf8N",
        "outputId": "40c441fe-4883-428e-a47a-f1be133f0537"
      },
      "execution_count": 3,
      "outputs": [
        {
          "output_type": "stream",
          "name": "stdout",
          "text": [
            "'audio_example_(Bass)_htdemucs_6s.wav'\n",
            "'audio_example_(Drums)_htdemucs_6s.wav'\n",
            "'audio_example_(Guitar)_htdemucs_6s.wav'\n",
            " audio_example.mp3\n",
            "'audio_example_(Other)_htdemucs_6s.wav'\n",
            "'audio_example_(Piano)_htdemucs_6s.wav'\n",
            "'audio_example_(Vocals)_htdemucs_6s.wav'\n",
            " \u001b[0m\u001b[01;34msample_data\u001b[0m/\n"
          ]
        }
      ]
    },
    {
      "cell_type": "code",
      "source": [
        "!pip install pyngrok"
      ],
      "metadata": {
        "colab": {
          "base_uri": "https://localhost:8080/"
        },
        "id": "kBWWGzb5xFwP",
        "outputId": "c7256b7e-f8d8-4756-99f1-26bb10f09696"
      },
      "execution_count": 4,
      "outputs": [
        {
          "output_type": "stream",
          "name": "stdout",
          "text": [
            "Collecting pyngrok\n",
            "  Downloading pyngrok-7.4.1-py3-none-any.whl.metadata (8.1 kB)\n",
            "Requirement already satisfied: PyYAML>=5.1 in /usr/local/lib/python3.12/dist-packages (from pyngrok) (6.0.3)\n",
            "Downloading pyngrok-7.4.1-py3-none-any.whl (25 kB)\n",
            "Installing collected packages: pyngrok\n",
            "Successfully installed pyngrok-7.4.1\n"
          ]
        }
      ]
    },
    {
      "cell_type": "code",
      "source": [
        "!pip install nest_asyncio\n"
      ],
      "metadata": {
        "colab": {
          "base_uri": "https://localhost:8080/"
        },
        "id": "smEQNT8ix0Or",
        "outputId": "0c74faf1-9096-401b-9d85-28d1c66f8395"
      },
      "execution_count": 5,
      "outputs": [
        {
          "output_type": "stream",
          "name": "stdout",
          "text": [
            "Requirement already satisfied: nest_asyncio in /usr/local/lib/python3.12/dist-packages (1.6.0)\n"
          ]
        }
      ]
    },
    {
      "cell_type": "code",
      "source": [
        "!ngrok config add-authtoken 30eW25DS9DAjbcnfLl0dgJGLi26_3cRvbDMAmAjCXVeyi6pmt"
      ],
      "metadata": {
        "colab": {
          "base_uri": "https://localhost:8080/"
        },
        "id": "dgTy_7PbzqxF",
        "outputId": "4bdd32ba-def3-4151-9524-b39771b7433f"
      },
      "execution_count": 6,
      "outputs": [
        {
          "output_type": "stream",
          "name": "stdout",
          "text": [
            "Authtoken saved to configuration file: /root/.config/ngrok/ngrok.yml\n"
          ]
        }
      ]
    },
    {
      "cell_type": "code",
      "source": [
        "import os\n",
        "import shutil\n",
        "import uuid\n",
        "from fastapi import FastAPI, UploadFile, File\n",
        "from fastapi.responses import FileResponse\n",
        "from fastapi.staticfiles import StaticFiles\n",
        "from audio_separator.separator import Separator\n",
        "from pyngrok import ngrok\n",
        "\n",
        "app = FastAPI(title=\"Audio Separation API\")\n",
        "os.makedirs(\"user_data\", exist_ok=True)\n",
        "# Mount static folder for serving separated files\n",
        "app.mount(\"/static\", StaticFiles(directory=\"user_data\"), name=\"static\")\n",
        "\n",
        "# Load model once globally\n",
        "separator = Separator()\n",
        "separator.load_model(\"htdemucs_6s.yaml\")\n",
        "\n",
        "def get_rename_mapping(base_name: str):\n",
        "    return {\n",
        "        f\"{base_name}_(Bass)_htdemucs_6s.wav\": \"bass.wav\",\n",
        "        f\"{base_name}_(Piano)_htdemucs_6s.wav\": \"piano.wav\",\n",
        "        f\"{base_name}_(Other)_htdemucs_6s.wav\": \"strings_or_pads.wav\",\n",
        "        f\"{base_name}_(Vocals)_htdemucs_6s.wav\": \"vocals.wav\",\n",
        "        f\"{base_name}_(Guitar)_htdemucs_6s.wav\": \"guitar.wav\",\n",
        "        f\"{base_name}_(Drums)_htdemucs_6s.wav\": \"drums.wav\",\n",
        "    }\n",
        "\n",
        "@app.post(\"/separate/\")\n",
        "async def separate_audio(file: UploadFile = File(...)):\n",
        "    user_id = str(uuid.uuid4())\n",
        "    user_folder = os.path.join(\"user_data\", user_id)\n",
        "    os.makedirs(user_folder, exist_ok=True)\n",
        "\n",
        "    input_path = os.path.join(user_folder, file.filename)\n",
        "    with open(input_path, \"wb\") as f:\n",
        "        shutil.copyfileobj(file.file, f)\n",
        "\n",
        "    output_files = separator.separate(input_path)\n",
        "\n",
        "    base_name, _ = os.path.splitext(file.filename)\n",
        "    rename_mapping = get_rename_mapping(base_name)\n",
        "\n",
        "    renamed_files = []\n",
        "    for old_path in output_files:\n",
        "        old_name = os.path.basename(old_path)\n",
        "        if old_name in rename_mapping:\n",
        "            new_path = os.path.join(user_folder, rename_mapping[old_name])\n",
        "            os.rename(old_path, new_path)\n",
        "            renamed_files.append(new_path)\n",
        "\n",
        "    file_urls = [\n",
        "        f\"/static/{user_id}/{os.path.basename(f)}\" for f in renamed_files\n",
        "    ]\n",
        "\n",
        "    return {\"user_id\": user_id, \"files\": file_urls}\n",
        "\n",
        "@app.get(\"/download/{user_id}/{filename}\")\n",
        "async def download_file(user_id: str, filename: str):\n",
        "    file_path = os.path.join(\"user_data\", user_id, filename)\n",
        "    if os.path.exists(file_path):\n",
        "        return FileResponse(file_path, filename=filename)\n",
        "    return {\"error\": \"File not found\"}\n",
        "\n",
        "if __name__ == \"__main__\":\n",
        "    import uvicorn\n",
        "    from pyngrok import ngrok\n",
        "\n",
        "    # 🔑 Set your ngrok token here\n",
        "    NGROK_TOKEN = \"30eW25DS9DAjbcnfLl0dgJGLi26_3cRvbDMAmAjCXVeyi6pmt\"\n",
        "    ngrok.set_auth_token(NGROK_TOKEN)\n",
        "\n",
        "    # Start a tunnel on port 8000\n",
        "    public_url = ngrok.connect(8000)\n",
        "    print(f\"Public URL: {public_url}\")\n",
        "\n",
        "    # Run FastAPI app asynchronously in the existing event loop\n",
        "    config = uvicorn.Config(app, host=\"0.0.0.0\", port=8000)\n",
        "    server = uvicorn.Server(config)\n",
        "    await server.serve()"
      ],
      "metadata": {
        "colab": {
          "base_uri": "https://localhost:8080/"
        },
        "id": "hfEN5p5Iuf5G",
        "outputId": "db7d17c5-3b34-447b-94f4-6891a0c8b08c"
      },
      "execution_count": null,
      "outputs": [
        {
          "output_type": "stream",
          "name": "stderr",
          "text": [
            "INFO:audio_separator.separator.separator:Separator version 0.39.1 instantiating with output_dir: None, output_format: WAV\n",
            "INFO:audio_separator.separator.separator:Output directory not specified. Using current working directory.\n",
            "INFO:audio_separator.separator.separator:Using model directory from model_file_dir parameter: /tmp/audio-separator-models/\n",
            "INFO:audio_separator.separator.separator:Operating System: Linux #1 SMP Thu Oct  2 10:42:05 UTC 2025\n",
            "INFO:audio_separator.separator.separator:System: Linux Node: d32c59a071b7 Release: 6.6.105+ Machine: x86_64 Proc: x86_64\n",
            "INFO:audio_separator.separator.separator:Python Version: 3.12.12\n",
            "INFO:audio_separator.separator.separator:PyTorch Version: 2.8.0+cu126\n",
            "INFO:audio_separator.separator.separator:FFmpeg installed: ffmpeg version 4.4.2-0ubuntu0.22.04.1 Copyright (c) 2000-2021 the FFmpeg developers\n",
            "INFO:audio_separator.separator.separator:ONNX Runtime GPU package installed with version: 1.23.2\n",
            "INFO:audio_separator.separator.separator:CUDA is available in Torch, setting Torch device to CUDA\n",
            "INFO:audio_separator.separator.separator:ONNXruntime has CUDAExecutionProvider available, enabling acceleration\n",
            "INFO:audio_separator.separator.separator:Loading model htdemucs_6s.yaml...\n",
            "INFO:audio_separator.separator.separator:Demucs Separator initialisation complete\n",
            "INFO:audio_separator.separator.separator:Load model duration: 00:00:00\n"
          ]
        },
        {
          "output_type": "stream",
          "name": "stdout",
          "text": [
            "Public URL: NgrokTunnel: \"https://2ce6d2482aa9.ngrok-free.app\" -> \"http://localhost:8000\"\n"
          ]
        },
        {
          "output_type": "stream",
          "name": "stderr",
          "text": [
            "INFO:     Started server process [2065]\n",
            "INFO:     Waiting for application startup.\n",
            "INFO:     Application startup complete.\n",
            "INFO:     Uvicorn running on http://0.0.0.0:8000 (Press CTRL+C to quit)\n"
          ]
        },
        {
          "output_type": "stream",
          "name": "stdout",
          "text": [
            "INFO:     103.189.158.29:0 - \"GET / HTTP/1.1\" 404 Not Found\n",
            "INFO:     103.189.158.29:0 - \"GET /favicon.ico HTTP/1.1\" 404 Not Found\n",
            "INFO:     103.189.158.29:0 - \"GET /docs HTTP/1.1\" 200 OK\n",
            "INFO:     103.189.158.29:0 - \"GET /openapi.json HTTP/1.1\" 200 OK\n"
          ]
        },
        {
          "output_type": "stream",
          "name": "stderr",
          "text": [
            "INFO:audio_separator.separator.separator:Processing file: user_data/d88418b0-58a9-4948-8157-e11092941001/audio_example.mp3\n",
            "INFO:audio_separator.separator.separator:Starting separation process for audio_file_path: user_data/d88418b0-58a9-4948-8157-e11092941001/audio_example.mp3\n",
            "100%|██████████| 2/2 [00:00<00:00,  4.08it/s]\n",
            "100%|██████████| 2/2 [00:00<00:00,  4.92it/s]\n",
            "INFO:audio_separator.separator.separator:Audio duration is 0.00 hours (10.88 seconds).\n",
            "INFO:audio_separator.separator.separator:Using pydub for writing.\n",
            "INFO:audio_separator.separator.separator:Audio duration is 0.00 hours (10.88 seconds).\n",
            "INFO:audio_separator.separator.separator:Using pydub for writing.\n",
            "INFO:audio_separator.separator.separator:Audio duration is 0.00 hours (10.88 seconds).\n",
            "INFO:audio_separator.separator.separator:Using pydub for writing.\n",
            "INFO:audio_separator.separator.separator:Audio duration is 0.00 hours (10.88 seconds).\n",
            "INFO:audio_separator.separator.separator:Using pydub for writing.\n",
            "INFO:audio_separator.separator.separator:Audio duration is 0.00 hours (10.88 seconds).\n",
            "INFO:audio_separator.separator.separator:Using pydub for writing.\n",
            "INFO:audio_separator.separator.separator:Audio duration is 0.00 hours (10.88 seconds).\n",
            "INFO:audio_separator.separator.separator:Using pydub for writing.\n",
            "INFO:audio_separator.separator.separator:Clearing input audio file paths, sources and stems...\n",
            "INFO:audio_separator.separator.separator:Separation duration: 00:00:03\n"
          ]
        },
        {
          "output_type": "stream",
          "name": "stdout",
          "text": [
            "INFO:     103.189.158.29:0 - \"POST /separate/ HTTP/1.1\" 200 OK\n",
            "INFO:     103.189.158.29:0 - \"GET /download/d88418b0-58a9-4948-8157-e11092941001/guitar.wav HTTP/1.1\" 200 OK\n"
          ]
        }
      ]
    },
    {
      "cell_type": "code",
      "source": [],
      "metadata": {
        "id": "0G_vNpwauf1O"
      },
      "execution_count": null,
      "outputs": []
    },
    {
      "cell_type": "code",
      "source": [
        "!audio-separator --list_models"
      ],
      "metadata": {
        "id": "wkYhE7cRrtYo"
      },
      "execution_count": null,
      "outputs": []
    },
    {
      "cell_type": "code",
      "source": [],
      "metadata": {
        "id": "oVXhdl1ws-EF"
      },
      "execution_count": null,
      "outputs": []
    }
  ]
}